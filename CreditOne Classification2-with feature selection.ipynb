{
 "cells": [
  {
   "cell_type": "markdown",
   "metadata": {},
   "source": [
    "# Load packages"
   ]
  },
  {
   "cell_type": "code",
   "execution_count": 2,
   "metadata": {},
   "outputs": [],
   "source": [
    "# Load libraries\n",
    "import numpy\n",
    "from matplotlib import pyplot\n",
    "from pandas import read_csv\n",
    "from pandas import set_option\n",
    "from pandas.plotting import scatter_matrix\n",
    "from sklearn.preprocessing import StandardScaler\n",
    "from sklearn.model_selection import train_test_split\n",
    "from sklearn.model_selection import KFold\n",
    "from sklearn.model_selection import cross_val_score\n",
    "from sklearn.model_selection import GridSearchCV\n",
    "from sklearn.metrics import classification_report\n",
    "from sklearn.metrics import confusion_matrix\n",
    "from sklearn.metrics import accuracy_score\n",
    "from sklearn.metrics import cohen_kappa_score\n",
    "from sklearn.pipeline import Pipeline\n",
    "from sklearn.linear_model import LogisticRegression\n",
    "from sklearn.tree import DecisionTreeClassifier\n",
    "from sklearn.neighbors import KNeighborsClassifier\n",
    "from sklearn.discriminant_analysis import LinearDiscriminantAnalysis\n",
    "from sklearn.naive_bayes import GaussianNB\n",
    "from sklearn.svm import SVC\n",
    "from sklearn.ensemble import AdaBoostClassifier\n",
    "from sklearn.ensemble import GradientBoostingClassifier\n",
    "from sklearn.ensemble import RandomForestClassifier\n",
    "from sklearn.ensemble import ExtraTreesClassifier"
   ]
  },
  {
   "cell_type": "markdown",
   "metadata": {},
   "source": [
    "# Load and Evaluate data"
   ]
  },
  {
   "cell_type": "code",
   "execution_count": 3,
   "metadata": {},
   "outputs": [],
   "source": [
    "import warnings\n",
    "warnings.filterwarnings('ignore')"
   ]
  },
  {
   "cell_type": "code",
   "execution_count": 4,
   "metadata": {},
   "outputs": [],
   "source": [
    "#data\n",
    "dataset = read_csv('default of credit card clients.csv', header=1)\n",
    "del dataset ['ID']\n",
    "dataset.rename(columns = {'default payment next month':'default'}, inplace=True)\n"
   ]
  },
  {
   "cell_type": "code",
   "execution_count": 5,
   "metadata": {},
   "outputs": [
    {
     "name": "stdout",
     "output_type": "stream",
     "text": [
      "(30000, 24)\n"
     ]
    }
   ],
   "source": [
    "print(dataset.shape)"
   ]
  },
  {
   "cell_type": "code",
   "execution_count": 6,
   "metadata": {},
   "outputs": [
    {
     "name": "stdout",
     "output_type": "stream",
     "text": [
      "LIMIT_BAL    int64\n",
      "SEX          int64\n",
      "EDUCATION    int64\n",
      "MARRIAGE     int64\n",
      "AGE          int64\n",
      "PAY_0        int64\n",
      "PAY_2        int64\n",
      "PAY_3        int64\n",
      "PAY_4        int64\n",
      "PAY_5        int64\n",
      "PAY_6        int64\n",
      "BILL_AMT1    int64\n",
      "BILL_AMT2    int64\n",
      "BILL_AMT3    int64\n",
      "BILL_AMT4    int64\n",
      "BILL_AMT5    int64\n",
      "BILL_AMT6    int64\n",
      "PAY_AMT1     int64\n",
      "PAY_AMT2     int64\n",
      "PAY_AMT3     int64\n",
      "PAY_AMT4     int64\n",
      "PAY_AMT5     int64\n",
      "PAY_AMT6     int64\n",
      "default      int64\n",
      "dtype: object\n"
     ]
    }
   ],
   "source": [
    "# types\n",
    "set_option('display.max_rows', 500) \n",
    "print(dataset.dtypes)"
   ]
  },
  {
   "cell_type": "code",
   "execution_count": 7,
   "metadata": {},
   "outputs": [
    {
     "name": "stdout",
     "output_type": "stream",
     "text": [
      "    LIMIT_BAL  SEX  EDUCATION  MARRIAGE  AGE  PAY_0  PAY_2  PAY_3  PAY_4  PAY_5   ...     \\\n",
      "0       20000    2          2         1   24      2      2     -1     -1     -2   ...      \n",
      "1      120000    2          2         2   26     -1      2      0      0      0   ...      \n",
      "2       90000    2          2         2   34      0      0      0      0      0   ...      \n",
      "3       50000    2          2         1   37      0      0      0      0      0   ...      \n",
      "4       50000    1          2         1   57     -1      0     -1      0      0   ...      \n",
      "5       50000    1          1         2   37      0      0      0      0      0   ...      \n",
      "6      500000    1          1         2   29      0      0      0      0      0   ...      \n",
      "7      100000    2          2         2   23      0     -1     -1      0      0   ...      \n",
      "8      140000    2          3         1   28      0      0      2      0      0   ...      \n",
      "9       20000    1          3         2   35     -2     -2     -2     -2     -1   ...      \n",
      "10     200000    2          3         2   34      0      0      2      0      0   ...      \n",
      "11     260000    2          1         2   51     -1     -1     -1     -1     -1   ...      \n",
      "12     630000    2          2         2   41     -1      0     -1     -1     -1   ...      \n",
      "13      70000    1          2         2   30      1      2      2      0      0   ...      \n",
      "14     250000    1          1         2   29      0      0      0      0      0   ...      \n",
      "15      50000    2          3         3   23      1      2      0      0      0   ...      \n",
      "16      20000    1          1         2   24      0      0      2      2      2   ...      \n",
      "17     320000    1          1         1   49      0      0      0     -1     -1   ...      \n",
      "18     360000    2          1         1   49      1     -2     -2     -2     -2   ...      \n",
      "19     180000    2          1         2   29      1     -2     -2     -2     -2   ...      \n",
      "\n",
      "    BILL_AMT4  BILL_AMT5  BILL_AMT6  PAY_AMT1  PAY_AMT2  PAY_AMT3  PAY_AMT4  PAY_AMT5  PAY_AMT6  \\\n",
      "0           0          0          0         0       689         0         0         0         0   \n",
      "1        3272       3455       3261         0      1000      1000      1000         0      2000   \n",
      "2       14331      14948      15549      1518      1500      1000      1000      1000      5000   \n",
      "3       28314      28959      29547      2000      2019      1200      1100      1069      1000   \n",
      "4       20940      19146      19131      2000     36681     10000      9000       689       679   \n",
      "5       19394      19619      20024      2500      1815       657      1000      1000       800   \n",
      "6      542653     483003     473944     55000     40000     38000     20239     13750     13770   \n",
      "7         221       -159        567       380       601         0       581      1687      1542   \n",
      "8       12211      11793       3719      3329         0       432      1000      1000      1000   \n",
      "9           0      13007      13912         0         0         0     13007      1122         0   \n",
      "10       2513       1828       3731      2306        12        50       300      3738        66   \n",
      "11       8517      22287      13668     21818      9966      8583     22301         0      3640   \n",
      "12       6500       6500       2870      1000      6500      6500      6500      2870         0   \n",
      "13      66782      36137      36894      3200         0      3000      3000      1500         0   \n",
      "14      59696      56875      55512      3000      3000      3000      3000      3000      3000   \n",
      "15      28771      29531      30211         0      1500      1100      1200      1300      1100   \n",
      "16      18338      17905      19104      3200         0      1500         0      1650         0   \n",
      "17      70074       5856     195599     10358     10000     75940     20000    195599     50000   \n",
      "18          0          0          0         0         0         0         0         0         0   \n",
      "19          0          0          0         0         0         0         0         0         0   \n",
      "\n",
      "    default  \n",
      "0         1  \n",
      "1         1  \n",
      "2         0  \n",
      "3         0  \n",
      "4         0  \n",
      "5         0  \n",
      "6         0  \n",
      "7         0  \n",
      "8         0  \n",
      "9         0  \n",
      "10        0  \n",
      "11        0  \n",
      "12        0  \n",
      "13        1  \n",
      "14        0  \n",
      "15        0  \n",
      "16        1  \n",
      "17        0  \n",
      "18        0  \n",
      "19        0  \n",
      "\n",
      "[20 rows x 24 columns]\n"
     ]
    }
   ],
   "source": [
    "# head\n",
    "set_option('display.width', 100) \n",
    "print(dataset.head(20))"
   ]
  },
  {
   "cell_type": "code",
   "execution_count": 8,
   "metadata": {},
   "outputs": [
    {
     "name": "stdout",
     "output_type": "stream",
     "text": [
      "            LIMIT_BAL           SEX     EDUCATION      MARRIAGE           AGE         PAY_0  \\\n",
      "count    30000.000000  30000.000000  30000.000000  30000.000000  30000.000000  30000.000000   \n",
      "mean    167484.322667      1.603733      1.853133      1.551867     35.485500     -0.016700   \n",
      "std     129747.661567      0.489129      0.790349      0.521970      9.217904      1.123802   \n",
      "min      10000.000000      1.000000      0.000000      0.000000     21.000000     -2.000000   \n",
      "25%      50000.000000      1.000000      1.000000      1.000000     28.000000     -1.000000   \n",
      "50%     140000.000000      2.000000      2.000000      2.000000     34.000000      0.000000   \n",
      "75%     240000.000000      2.000000      2.000000      2.000000     41.000000      0.000000   \n",
      "max    1000000.000000      2.000000      6.000000      3.000000     79.000000      8.000000   \n",
      "\n",
      "              PAY_2         PAY_3         PAY_4         PAY_5      ...           BILL_AMT4  \\\n",
      "count  30000.000000  30000.000000  30000.000000  30000.000000      ...        30000.000000   \n",
      "mean      -0.133767     -0.166200     -0.220667     -0.266200      ...        43262.948967   \n",
      "std        1.197186      1.196868      1.169139      1.133187      ...        64332.856134   \n",
      "min       -2.000000     -2.000000     -2.000000     -2.000000      ...      -170000.000000   \n",
      "25%       -1.000000     -1.000000     -1.000000     -1.000000      ...         2326.750000   \n",
      "50%        0.000000      0.000000      0.000000      0.000000      ...        19052.000000   \n",
      "75%        0.000000      0.000000      0.000000      0.000000      ...        54506.000000   \n",
      "max        8.000000      8.000000      8.000000      8.000000      ...       891586.000000   \n",
      "\n",
      "           BILL_AMT5      BILL_AMT6       PAY_AMT1      PAY_AMT2      PAY_AMT3       PAY_AMT4  \\\n",
      "count   30000.000000   30000.000000   30000.000000  3.000000e+04   30000.00000   30000.000000   \n",
      "mean    40311.400967   38871.760400    5663.580500  5.921163e+03    5225.68150    4826.076867   \n",
      "std     60797.155770   59554.107537   16563.280354  2.304087e+04   17606.96147   15666.159744   \n",
      "min    -81334.000000 -339603.000000       0.000000  0.000000e+00       0.00000       0.000000   \n",
      "25%      1763.000000    1256.000000    1000.000000  8.330000e+02     390.00000     296.000000   \n",
      "50%     18104.500000   17071.000000    2100.000000  2.009000e+03    1800.00000    1500.000000   \n",
      "75%     50190.500000   49198.250000    5006.000000  5.000000e+03    4505.00000    4013.250000   \n",
      "max    927171.000000  961664.000000  873552.000000  1.684259e+06  896040.00000  621000.000000   \n",
      "\n",
      "            PAY_AMT5       PAY_AMT6       default  \n",
      "count   30000.000000   30000.000000  30000.000000  \n",
      "mean     4799.387633    5215.502567      0.221200  \n",
      "std     15278.305679   17777.465775      0.415062  \n",
      "min         0.000000       0.000000      0.000000  \n",
      "25%       252.500000     117.750000      0.000000  \n",
      "50%      1500.000000    1500.000000      0.000000  \n",
      "75%      4031.500000    4000.000000      0.000000  \n",
      "max    426529.000000  528666.000000      1.000000  \n",
      "\n",
      "[8 rows x 24 columns]\n"
     ]
    }
   ],
   "source": [
    "#descriptions\n",
    "print(dataset.describe())"
   ]
  },
  {
   "cell_type": "code",
   "execution_count": 9,
   "metadata": {},
   "outputs": [
    {
     "name": "stdout",
     "output_type": "stream",
     "text": [
      "default\n",
      "0    23364\n",
      "1     6636\n",
      "dtype: int64\n"
     ]
    }
   ],
   "source": [
    "# class distribution\n",
    "print(dataset.groupby('default').size())"
   ]
  },
  {
   "cell_type": "markdown",
   "metadata": {},
   "source": [
    "Note that in this binary classification problem, the two classes are imbalanced with 'default' class in 22.1% of the observations. As a result evaluating models simply on the basis of the \"Accuracy\" metric will likely not be best course of action. We will look at Kappa and other metrics as well."
   ]
  },
  {
   "cell_type": "code",
   "execution_count": 10,
   "metadata": {},
   "outputs": [
    {
     "data": {
      "image/png": "[encoded data removed]",
      "text/plain": [
       "<Figure size 432x288 with 25 Axes>"
      ]
     },
     "metadata": {},
     "output_type": "display_data"
    }
   ],
   "source": [
    "# histograms\n",
    "dataset.hist(sharex=False, sharey=False, xlabelsize=1, ylabelsize=1)\n",
    "pyplot.show()"
   ]
  },
  {
   "cell_type": "code",
   "execution_count": 11,
   "metadata": {},
   "outputs": [
    {
     "data": {
      "image/png": "[encoded data removed]",
      "text/plain": [
       "<Figure size 432x288 with 64 Axes>"
      ]
     },
     "metadata": {},
     "output_type": "display_data"
    }
   ],
   "source": [
    "# density\n",
    "dataset.plot(kind='density', subplots=True, layout=(8,8), sharex=False, legend=False, fontsize=1)\n",
    "pyplot.show()"
   ]
  },
  {
   "cell_type": "code",
   "execution_count": 53,
   "metadata": {},
   "outputs": [
    {
     "data": {
      "image/png": "[encoded data removed]",
      "text/plain": [
       "<Figure size 432x288 with 2 Axes>"
      ]
     },
     "metadata": {},
     "output_type": "display_data"
    }
   ],
   "source": [
    "# correlation matrix\n",
    "fig = pyplot.figure()\n",
    "ax = fig.add_subplot(111)\n",
    "cax = ax.matshow(dataset.corr(), vmin=-1, vmax=1, interpolation='none') \n",
    "fig.colorbar(cax)\n",
    "pyplot.show()"
   ]
  },
  {
   "cell_type": "markdown",
   "metadata": {},
   "source": [
    "# Feature Selection"
   ]
  },
  {
   "cell_type": "code",
   "execution_count": 12,
   "metadata": {},
   "outputs": [
    {
     "name": "stdout",
     "output_type": "stream",
     "text": [
      "Num Features: 9\n",
      "Selected Features: [False  True  True  True  True  True  True  True  True  True False False\n",
      " False False False False False False False False False False False]\n",
      "Feature Ranking: [11  1  1  1  1  1  1  1  1  1  2  8  9 13 15 10 14  3  4  6  5  7 12]\n"
     ]
    }
   ],
   "source": [
    "# Feature Extraction with RFE\n",
    "from pandas import read_csv\n",
    "from sklearn.feature_selection import RFE\n",
    "from sklearn.linear_model import LogisticRegression\n",
    "# load data\n",
    "dataset = read_csv('default of credit card clients.csv', header=1)\n",
    "del dataset ['ID']\n",
    "dataset.rename(columns = {'default payment next month':'default'}, inplace=True)\n",
    "\n",
    "array = dataset.values\n",
    "X = array[:,0:23]\n",
    "Y = array[:,23]\n",
    "# feature extraction\n",
    "model = LogisticRegression()\n",
    "rfe = RFE(model, 9)\n",
    "fit = rfe.fit(X, Y)\n",
    "print(\"Num Features: %d\" % fit.n_features_)\n",
    "print(\"Selected Features: %s\" % fit.support_)\n",
    "print(\"Feature Ranking: %s\" % fit.ranking_)"
   ]
  },
  {
   "cell_type": "code",
   "execution_count": 13,
   "metadata": {},
   "outputs": [
    {
     "name": "stdout",
     "output_type": "stream",
     "text": [
      "LIMIT_BAL    int64\n",
      "SEX          int64\n",
      "EDUCATION    int64\n",
      "MARRIAGE     int64\n",
      "AGE          int64\n",
      "PAY_0        int64\n",
      "PAY_2        int64\n",
      "PAY_3        int64\n",
      "PAY_4        int64\n",
      "PAY_5        int64\n",
      "PAY_6        int64\n",
      "BILL_AMT1    int64\n",
      "BILL_AMT2    int64\n",
      "BILL_AMT3    int64\n",
      "BILL_AMT4    int64\n",
      "BILL_AMT5    int64\n",
      "BILL_AMT6    int64\n",
      "PAY_AMT1     int64\n",
      "PAY_AMT2     int64\n",
      "PAY_AMT3     int64\n",
      "PAY_AMT4     int64\n",
      "PAY_AMT5     int64\n",
      "PAY_AMT6     int64\n",
      "default      int64\n",
      "dtype: object\n"
     ]
    }
   ],
   "source": [
    "print(dataset.dtypes)"
   ]
  },
  {
   "cell_type": "code",
   "execution_count": 14,
   "metadata": {},
   "outputs": [
    {
     "name": "stdout",
     "output_type": "stream",
     "text": [
      "[0.06558841 0.00792976 0.0347108  0.02124582 0.06645402 0.10195361\n",
      " 0.04723862 0.02299823 0.03399207 0.0364009  0.02680329 0.05131997\n",
      " 0.04826378 0.04500785 0.04499012 0.04368099 0.04388595 0.0438157\n",
      " 0.04190235 0.04216146 0.0411141  0.04235175 0.04619047]\n"
     ]
    }
   ],
   "source": [
    "# Feature Importance with Extra Trees Classifier\n",
    "from sklearn.ensemble import ExtraTreesClassifier\n",
    "array = dataset.values\n",
    "X = array[:,0:23]\n",
    "Y = array[:,23]\n",
    "# feature extraction\n",
    "model = ExtraTreesClassifier()\n",
    "model.fit(X, Y)\n",
    "print(model.feature_importances_)"
   ]
  },
  {
   "cell_type": "markdown",
   "metadata": {},
   "source": [
    "# Remove features"
   ]
  },
  {
   "cell_type": "code",
   "execution_count": 15,
   "metadata": {},
   "outputs": [],
   "source": [
    "del dataset ['LIMIT_BAL']\n",
    "del dataset ['BILL_AMT1']\n",
    "del dataset ['BILL_AMT2']\n",
    "del dataset ['BILL_AMT3']\n",
    "del dataset ['BILL_AMT4']\n",
    "del dataset ['BILL_AMT5']\n",
    "del dataset ['BILL_AMT6']\n",
    "del dataset ['PAY_AMT1']\n",
    "del dataset ['PAY_AMT2']\n",
    "del dataset ['PAY_AMT3']\n",
    "del dataset ['PAY_AMT4']\n",
    "del dataset ['PAY_AMT5']\n",
    "del dataset ['PAY_AMT6']"
   ]
  },
  {
   "cell_type": "code",
   "execution_count": 16,
   "metadata": {},
   "outputs": [
    {
     "name": "stdout",
     "output_type": "stream",
     "text": [
      "SEX          int64\n",
      "EDUCATION    int64\n",
      "MARRIAGE     int64\n",
      "AGE          int64\n",
      "PAY_0        int64\n",
      "PAY_2        int64\n",
      "PAY_3        int64\n",
      "PAY_4        int64\n",
      "PAY_5        int64\n",
      "PAY_6        int64\n",
      "default      int64\n",
      "dtype: object\n"
     ]
    }
   ],
   "source": [
    "print(dataset.dtypes)"
   ]
  },
  {
   "cell_type": "markdown",
   "metadata": {},
   "source": [
    "# Split dataset in two, 70% to train models and 30% to hold back as validation dataset"
   ]
  },
  {
   "cell_type": "code",
   "execution_count": 17,
   "metadata": {},
   "outputs": [],
   "source": [
    "# Split-out validation dataset\n",
    "array = dataset.values\n",
    "X = array[:,0:10].astype(int)\n",
    "Y = array[:,10]\n",
    "validation_size = 0.30\n",
    "seed = 7\n",
    "X_train, X_validation, Y_train, Y_validation = train_test_split(X, Y,\n",
    "    test_size=validation_size, random_state=seed)"
   ]
  },
  {
   "cell_type": "markdown",
   "metadata": {},
   "source": [
    "# Use 10-fold cross validation to estimate accuracy"
   ]
  },
  {
   "cell_type": "code",
   "execution_count": 18,
   "metadata": {},
   "outputs": [],
   "source": [
    "# Test options and evaluation metric\n",
    "num_folds = 10\n",
    "seed = 7\n",
    "scoring = 'accuracy'"
   ]
  },
  {
   "cell_type": "markdown",
   "metadata": {},
   "source": [
    "# Build Models. Evaluate six algorithms including simple linear(LR and LDA) and 4 nonlinear."
   ]
  },
  {
   "cell_type": "code",
   "execution_count": 19,
   "metadata": {},
   "outputs": [],
   "source": [
    "# Spot-Check Algorithms\n",
    "models = []\n",
    "models.append(('LR', LogisticRegression())) \n",
    "models.append(('LDA', LinearDiscriminantAnalysis())) \n",
    "models.append(('KNN', KNeighborsClassifier())) \n",
    "models.append(('CART', DecisionTreeClassifier())) \n",
    "models.append(('NB', GaussianNB())) \n",
    "models.append(('SVM', SVC()))"
   ]
  },
  {
   "cell_type": "markdown",
   "metadata": {},
   "source": [
    "# Train suite of algorithms and select best models. "
   ]
  },
  {
   "cell_type": "code",
   "execution_count": 20,
   "metadata": {},
   "outputs": [
    {
     "name": "stdout",
     "output_type": "stream",
     "text": [
      "LR: 0.810476 (0.009861)\n",
      "LDA: 0.811571 (0.010614)\n",
      "KNN: 0.795667 (0.010320)\n",
      "CART: 0.767238 (0.010958)\n",
      "NB: 0.802286 (0.010737)\n",
      "SVM: 0.818476 (0.010858)\n"
     ]
    }
   ],
   "source": [
    "results = []\n",
    "names = []\n",
    "for name, model in models:\n",
    "  kfold = KFold(n_splits=num_folds, random_state=seed)\n",
    "  cv_results = cross_val_score(model, X_train, Y_train, cv=kfold, scoring=scoring)\n",
    "  results.append(cv_results)\n",
    "  names.append(name)\n",
    "  msg = \"%s: %f (%f)\" % (name, cv_results.mean(), cv_results.std())\n",
    "  print(msg)"
   ]
  },
  {
   "cell_type": "code",
   "execution_count": 21,
   "metadata": {},
   "outputs": [
    {
     "data": {
      "image/png": "[encoded data removed]",
      "text/plain": [
       "<Figure size 432x288 with 1 Axes>"
      ]
     },
     "metadata": {},
     "output_type": "display_data"
    }
   ],
   "source": [
    "# Compare Algorithms\n",
    "fig = pyplot.figure() \n",
    "fig.suptitle('Algorithm Comparison') \n",
    "ax = fig.add_subplot(111) \n",
    "pyplot.boxplot(results) \n",
    "ax.set_xticklabels(names)\n",
    "pyplot.show()"
   ]
  },
  {
   "cell_type": "markdown",
   "metadata": {},
   "source": [
    "# Stardardize dataset and rerun algorithms to evaluate improvement."
   ]
  },
  {
   "cell_type": "code",
   "execution_count": 22,
   "metadata": {
    "scrolled": true
   },
   "outputs": [
    {
     "name": "stdout",
     "output_type": "stream",
     "text": [
      "ScaledLR: 0.810524 (0.010033)\n",
      "ScaledLDA: 0.811571 (0.010614)\n",
      "ScaledKNN: 0.798952 (0.012873)\n",
      "ScaledCART: 0.767952 (0.012152)\n",
      "ScaledNB: 0.802286 (0.010737)\n",
      "ScaledSVM: 0.821381 (0.011167)\n"
     ]
    }
   ],
   "source": [
    "# Standardize the dataset\n",
    "pipelines = []\n",
    "pipelines.append(('ScaledLR', Pipeline([('Scaler', StandardScaler()),('LR', LogisticRegression())])))\n",
    "pipelines.append(('ScaledLDA', Pipeline([('Scaler', StandardScaler()),('LDA', LinearDiscriminantAnalysis())])))\n",
    "pipelines.append(('ScaledKNN', Pipeline([('Scaler', StandardScaler()),('KNN', KNeighborsClassifier())])))\n",
    "pipelines.append(('ScaledCART', Pipeline([('Scaler', StandardScaler()),('CART', DecisionTreeClassifier())])))\n",
    "pipelines.append(('ScaledNB', Pipeline([('Scaler', StandardScaler()),('NB', GaussianNB())])))\n",
    "pipelines.append(('ScaledSVM', Pipeline([('Scaler', StandardScaler()),('SVM', SVC())]))) \n",
    "results = []\n",
    "names = []\n",
    "for name, model in pipelines:\n",
    "  kfold = KFold(n_splits=num_folds, random_state=seed)\n",
    "  cv_results = cross_val_score(model, X_train, Y_train, cv=kfold, scoring=scoring)\n",
    "  results.append(cv_results)\n",
    "  names.append(name)\n",
    "  msg = \"%s: %f (%f)\" % (name, cv_results.mean(), cv_results.std())\n",
    "  print(msg)"
   ]
  },
  {
   "cell_type": "code",
   "execution_count": 23,
   "metadata": {},
   "outputs": [
    {
     "data": {
      "image/png": "[encoded data removed]",
      "text/plain": [
       "<Figure size 432x288 with 1 Axes>"
      ]
     },
     "metadata": {},
     "output_type": "display_data"
    }
   ],
   "source": [
    "# Compare Algorithms\n",
    "fig = pyplot.figure()\n",
    "fig.suptitle('Scaled Algorithm Comparison') \n",
    "ax = fig.add_subplot(111) \n",
    "pyplot.boxplot(results) \n",
    "ax.set_xticklabels(names)\n",
    "pyplot.show()"
   ]
  },
  {
   "cell_type": "markdown",
   "metadata": {},
   "source": [
    "# Tune a couple of algorithms and evaluate."
   ]
  },
  {
   "cell_type": "code",
   "execution_count": 24,
   "metadata": {},
   "outputs": [
    {
     "name": "stdout",
     "output_type": "stream",
     "text": [
      "Best: 0.816762 using {'n_neighbors': 25}\n",
      "0.734000 (0.013941) with: {'n_neighbors': 1}\n",
      "0.813857 (0.010405) with: {'n_neighbors': 15}\n",
      "0.816095 (0.010888) with: {'n_neighbors': 21}\n",
      "0.816762 (0.011153) with: {'n_neighbors': 25}\n"
     ]
    }
   ],
   "source": [
    "# Tune scaled KNN\n",
    "scaler = StandardScaler().fit(X_train)\n",
    "rescaledX = scaler.transform(X_train)\n",
    "neighbors = [1,15,21,25]\n",
    "param_grid = dict(n_neighbors=neighbors)\n",
    "model = KNeighborsClassifier()\n",
    "kfold = KFold(n_splits=num_folds, random_state=seed)\n",
    "grid = GridSearchCV(estimator=model, param_grid=param_grid, scoring=scoring, cv=kfold)\n",
    "grid_result = grid.fit(rescaledX, Y_train)\n",
    "print(\"Best: %f using %s\" % (grid_result.best_score_, grid_result.best_params_))\n",
    "means = grid_result.cv_results_['mean_test_score'] \n",
    "stds = grid_result.cv_results_['std_test_score'] \n",
    "params = grid_result.cv_results_['params']\n",
    "for mean, stdev, param in zip(means, stds, params):\n",
    "    print(\"%f (%f) with: %r\" % (mean, stdev, param))"
   ]
  },
  {
   "cell_type": "code",
   "execution_count": 25,
   "metadata": {
    "scrolled": false
   },
   "outputs": [
    {
     "name": "stdout",
     "output_type": "stream",
     "text": [
      "Best: 0.821476 using {'C': 1.5, 'kernel': 'rbf'}\n",
      "0.812238 (0.009810) with: {'C': 0.1, 'kernel': 'linear'}\n",
      "0.820095 (0.011296) with: {'C': 0.1, 'kernel': 'rbf'}\n",
      "0.811905 (0.009964) with: {'C': 0.5, 'kernel': 'linear'}\n",
      "0.821286 (0.010733) with: {'C': 0.5, 'kernel': 'rbf'}\n",
      "0.812238 (0.009829) with: {'C': 1.0, 'kernel': 'linear'}\n",
      "0.821381 (0.011167) with: {'C': 1.0, 'kernel': 'rbf'}\n",
      "0.811952 (0.009889) with: {'C': 1.5, 'kernel': 'linear'}\n",
      "0.821476 (0.010951) with: {'C': 1.5, 'kernel': 'rbf'}\n"
     ]
    }
   ],
   "source": [
    "# Tune scaled SVM\n",
    "scaler = StandardScaler().fit(X_train)\n",
    "rescaledX = scaler.transform(X_train)\n",
    "c_values = [0.1, 0.5, 1.0, 1.5]\n",
    "kernel_values = ['linear', 'rbf']\n",
    "param_grid = dict(C=c_values, kernel=kernel_values)\n",
    "model = SVC()\n",
    "kfold = KFold(n_splits=num_folds, random_state=seed)\n",
    "grid = GridSearchCV(estimator=model, param_grid=param_grid, scoring=scoring, cv=kfold) \n",
    "grid_result = grid.fit(rescaledX, Y_train)\n",
    "print(\"Best: %f using %s\" % (grid_result.best_score_, grid_result.best_params_))\n",
    "means = grid_result.cv_results_['mean_test_score']\n",
    "stds = grid_result.cv_results_['std_test_score']\n",
    "params = grid_result.cv_results_['params']\n",
    "for mean, stdev, param in zip(means, stds, params):\n",
    "    print(\"%f (%f) with: %r\" % (mean, stdev, param))"
   ]
  },
  {
   "cell_type": "markdown",
   "metadata": {},
   "source": [
    "# Train ensembles and compare"
   ]
  },
  {
   "cell_type": "code",
   "execution_count": 26,
   "metadata": {},
   "outputs": [
    {
     "name": "stdout",
     "output_type": "stream",
     "text": [
      "AB: 0.820524 (0.010734)\n",
      "GBM: 0.821571 (0.010387)\n",
      "RF: 0.789714 (0.010147)\n"
     ]
    }
   ],
   "source": [
    "# ensembles\n",
    "ensembles = []\n",
    "ensembles.append(('AB', AdaBoostClassifier())) \n",
    "ensembles.append(('GBM', GradientBoostingClassifier())) \n",
    "ensembles.append(('RF', RandomForestClassifier())) \n",
    "results = []\n",
    "names = []\n",
    "for name, model in ensembles:\n",
    "  kfold = KFold(n_splits=num_folds, random_state=seed)\n",
    "  cv_results = cross_val_score(model, X_train, Y_train, cv=kfold, scoring=scoring)\n",
    "  results.append(cv_results)\n",
    "  names.append(name)\n",
    "  msg = \"%s: %f (%f)\" % (name, cv_results.mean(), cv_results.std())\n",
    "  print(msg)"
   ]
  },
  {
   "cell_type": "code",
   "execution_count": 27,
   "metadata": {},
   "outputs": [
    {
     "data": {
      "image/png": "[encoded data removed]",
      "text/plain": [
       "<Figure size 432x288 with 1 Axes>"
      ]
     },
     "metadata": {},
     "output_type": "display_data"
    }
   ],
   "source": [
    "# Compare Algorithms\n",
    "fig = pyplot.figure()\n",
    "fig.suptitle('Ensemble Algorithm Comparison') \n",
    "ax = fig.add_subplot(111) \n",
    "pyplot.boxplot(results) \n",
    "ax.set_xticklabels(names)\n",
    "pyplot.show()"
   ]
  },
  {
   "cell_type": "markdown",
   "metadata": {},
   "source": [
    "# Make Predictions"
   ]
  },
  {
   "cell_type": "code",
   "execution_count": 28,
   "metadata": {},
   "outputs": [
    {
     "name": "stdout",
     "output_type": "stream",
     "text": [
      "Accuracy: 0.819\n",
      "Kappa: 0.369\n",
      "[[6665  354]\n",
      " [1272  709]]\n",
      "              precision    recall  f1-score   support\n",
      "\n",
      "           0       0.84      0.95      0.89      7019\n",
      "           1       0.67      0.36      0.47      1981\n",
      "\n",
      "   micro avg       0.82      0.82      0.82      9000\n",
      "   macro avg       0.75      0.65      0.68      9000\n",
      "weighted avg       0.80      0.82      0.80      9000\n",
      "\n"
     ]
    }
   ],
   "source": [
    "#Make Predictions with GBM\n",
    "GBM = GradientBoostingClassifier()\n",
    "GBM.fit(X_train, Y_train)\n",
    "predictions = GBM.predict(X_validation)\n",
    "predAccuracy = accuracy_score(Y_validation,predictions)\n",
    "print('Accuracy: %.3f' % predAccuracy)\n",
    "predKappa = cohen_kappa_score(Y_validation,predictions)\n",
    "print('Kappa: %.3f' % predKappa)\n",
    "print(confusion_matrix(Y_validation, predictions))\n",
    "print(classification_report(Y_validation, predictions))"
   ]
  },
  {
   "cell_type": "code",
   "execution_count": 29,
   "metadata": {},
   "outputs": [
    {
     "name": "stdout",
     "output_type": "stream",
     "text": [
      "Accuracy: 0.810\n",
      "Kappa: 0.273\n",
      "[[6815  204]\n",
      " [1510  471]]\n",
      "              precision    recall  f1-score   support\n",
      "\n",
      "           0       0.82      0.97      0.89      7019\n",
      "           1       0.70      0.24      0.35      1981\n",
      "\n",
      "   micro avg       0.81      0.81      0.81      9000\n",
      "   macro avg       0.76      0.60      0.62      9000\n",
      "weighted avg       0.79      0.81      0.77      9000\n",
      "\n"
     ]
    }
   ],
   "source": [
    "#Make Predictions with LDA\n",
    "LDA = LinearDiscriminantAnalysis()\n",
    "LDA.fit(X_train, Y_train)\n",
    "predictions = LDA.predict(X_validation)\n",
    "predAccuracy = accuracy_score(Y_validation,predictions)\n",
    "print('Accuracy: %.3f' % predAccuracy)\n",
    "predKappa = cohen_kappa_score(Y_validation,predictions)\n",
    "print('Kappa: %.3f' % predKappa)\n",
    "print(confusion_matrix(Y_validation, predictions))\n",
    "print(classification_report(Y_validation, predictions))"
   ]
  },
  {
   "cell_type": "code",
   "execution_count": 30,
   "metadata": {
    "scrolled": true
   },
   "outputs": [
    {
     "name": "stdout",
     "output_type": "stream",
     "text": [
      "Accuracy: 0.813\n",
      "Kappa: 0.344\n",
      "[[6651  368]\n",
      " [1312  669]]\n",
      "              precision    recall  f1-score   support\n",
      "\n",
      "           0       0.84      0.95      0.89      7019\n",
      "           1       0.65      0.34      0.44      1981\n",
      "\n",
      "   micro avg       0.81      0.81      0.81      9000\n",
      "   macro avg       0.74      0.64      0.67      9000\n",
      "weighted avg       0.79      0.81      0.79      9000\n",
      "\n"
     ]
    }
   ],
   "source": [
    "#Make Predictions with SVM\n",
    "SVM = SVC()\n",
    "SVM.fit(X_train, Y_train)\n",
    "predictions = SVM.predict(X_validation)\n",
    "predAccuracy = accuracy_score(Y_validation,predictions)\n",
    "print('Accuracy: %.3f' % predAccuracy)\n",
    "predKappa = cohen_kappa_score(Y_validation,predictions)\n",
    "print('Kappa: %.3f' % predKappa)\n",
    "print(confusion_matrix(Y_validation, predictions))\n",
    "print(classification_report(Y_validation, predictions))"
   ]
  },
  {
   "cell_type": "code",
   "execution_count": null,
   "metadata": {},
   "outputs": [],
   "source": []
  }
 ],
 "metadata": {
  "kernelspec": {
   "display_name": "Python 3",
   "language": "python",
   "name": "python3"
  },
  "language_info": {
   "codemirror_mode": {
    "name": "ipython",
    "version": 3
   },
   "file_extension": ".py",
   "mimetype": "text/x-python",
   "name": "python",
   "nbconvert_exporter": "python",
   "pygments_lexer": "ipython3",
   "version": "3.6.5"
  }
 },
 "nbformat": 4,
 "nbformat_minor": 2
}
